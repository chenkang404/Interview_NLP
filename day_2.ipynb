{
 "cells": [
  {
   "cell_type": "code",
   "execution_count": 1,
   "metadata": {},
   "outputs": [
    {
     "name": "stdout",
     "output_type": "stream",
     "text": [
      "[(0, 2, '甲状腺'), (12, 14, '甲状腺'), (21, 23, '甲状腺')]\n"
     ]
    }
   ],
   "source": [
    "class TrieNode:\n",
    "    def __init__(self):\n",
    "        self.children = {}\n",
    "        self.is_end_of_word = False\n",
    "        self.words = []  # 用来存储以当前节点为终止的所有词\n",
    "\n",
    "class Trie:\n",
    "    def __init__(self):\n",
    "        self.root = TrieNode()\n",
    "\n",
    "    def insert(self, word):\n",
    "        node = self.root\n",
    "        for char in word:\n",
    "            if char not in node.children:\n",
    "                node.children[char] = TrieNode()\n",
    "            node = node.children[char]\n",
    "        node.is_end_of_word = True\n",
    "        node.words.append(word)  # 将当前词添加到以该节点为结束的词列表中\n",
    "\n",
    "    def search(self, text, start_index):\n",
    "        node = self.root\n",
    "        matches = []\n",
    "        for i in range(start_index, len(text)):\n",
    "            char = text[i]\n",
    "            if char not in node.children:\n",
    "                break\n",
    "            node = node.children[char]\n",
    "            if node.is_end_of_word:\n",
    "                for word in node.words:\n",
    "                    matches.append((start_index, start_index + len(word) - 1, word))\n",
    "\n",
    "        return matches if matches else None\n",
    "\n",
    "def annotate_text(text, keywords):\n",
    "    # 构建Trie树\n",
    "    trie = Trie()\n",
    "    for word in keywords:\n",
    "        trie.insert(word)\n",
    "\n",
    "    # 标注文本\n",
    "    annotations = []\n",
    "    i = 0\n",
    "    while i < len(text):\n",
    "        matches = trie.search(text, i)\n",
    "        if matches:\n",
    "            # print(f\"matches:{matches}\")\n",
    "            max_matched = max(matches,key=lambda x: x[1])\n",
    "            annotations.append(max_matched)\n",
    "            i += len(max_matched[2])\n",
    "            # for match in matches:\n",
    "            #     print(f\"match:{match}\")\n",
    "            #     annotations.append(match)\n",
    "            #     i += len(match[2])  # 跳过已经匹配的词\n",
    "        else:\n",
    "            i += 1\n",
    "\n",
    "    return annotations\n",
    "\n",
    "# 示例用法\n",
    "text = \"甲状腺是一个重要的器官，甲状腺疾病很常见，甲状腺功能亢进是一种常见的病症。\"\n",
    "keywords = [\"甲状腺\", \"甲状\"]\n",
    "annotations = annotate_text(text, keywords)\n",
    "print(annotations)\n"
   ]
  },
  {
   "cell_type": "code",
   "execution_count": null,
   "metadata": {},
   "outputs": [],
   "source": []
  }
 ],
 "metadata": {
  "language_info": {
   "name": "python"
  }
 },
 "nbformat": 4,
 "nbformat_minor": 2
}
